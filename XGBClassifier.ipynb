{
 "cells": [
  {
   "cell_type": "code",
   "execution_count": null,
   "id": "e7b173a6-75a9-4313-9ab1-aca650420435",
   "metadata": {},
   "outputs": [],
   "source": [
    "pip install xgboost"
   ]
  },
  {
   "cell_type": "code",
   "execution_count": null,
   "id": "2ffe1ed7-c947-41e3-ab9d-beb7c999489c",
   "metadata": {},
   "outputs": [],
   "source": [
    "import pandas as pd\n",
    "import numpy as np\n",
    "from sklearn.model_selection import train_test_split, StratifiedKFold, GridSearchCV\n",
    "from sklearn.metrics import classification_report, confusion_matrix, roc_auc_score\n",
    "from sklearn.preprocessing import StandardScaler\n",
    "from xgboost import XGBClassifier"
   ]
  },
  {
   "cell_type": "code",
   "execution_count": null,
   "id": "00723b6c-9eca-4904-8be3-4d63153de39e",
   "metadata": {},
   "outputs": [],
   "source": [
    "df = pd.read_csv('diabetes.csv')\n",
    "df"
   ]
  },
  {
   "cell_type": "code",
   "execution_count": null,
   "id": "f70897e1-0a84-4474-a5b7-87d218db9166",
   "metadata": {},
   "outputs": [],
   "source": [
    "X = df.drop('class', axis=1)\n",
    "y = df['class']\n",
    "\n",
    "X_train, X_test, y_train, y_test = train_test_split(X, y, test_size=0.2, random_state=42)"
   ]
  },
  {
   "cell_type": "code",
   "execution_count": null,
   "id": "89d33a9b-d6ff-49bd-a965-35bfb9ba54bd",
   "metadata": {},
   "outputs": [],
   "source": [
    "scaler = StandardScaler()\n",
    "X_train_scaled = scaler.fit_transform(X_train)\n",
    "X_test_scaled = scaler.transform(X_test)\n",
    "print(X_train_scaled)\n",
    "print(\"---------------------------------\")\n",
    "print(X_test_scaled)"
   ]
  },
  {
   "cell_type": "code",
   "execution_count": null,
   "id": "eb5219b8-bb4d-4545-a1d2-3852c94b75f1",
   "metadata": {},
   "outputs": [],
   "source": [
    "xgb = XGBClassifier(use_label_encoder=False, eval_metric='logloss', random_state=42)\n",
    "\n",
    "# Hyperparameter grid\n",
    "param_grid = {\n",
    "n_estimators': [100, 150, 200, 300],\n",
    "learning_rate': [0.01, 0.1,0.15],\n",
    "'max_depth': [2, 3, 4, 5],\n",
    "'subsample': [0.8, 1.0],\n",
    "'colsample_bytree': [0.8, 1.0]\n",
    "}\n",
    "\n",
    "skf = StratifiedKFold(n_splts=5, shuffle=True, random_state=42)\n",
    "\n",
    "# GridSearchCV with scoring = recalL\n",
    "grid_search = GridSearchCV(estimator=xgb,\n",
    "param_grid=param_grid,\n",
    "scoring='recall',\n",
    "cv=skf,\n",
    "verbose=1,\n",
    "n_jobs =- 1)\n",
    "    "
   ]
  },
  {
   "cell_type": "code",
   "execution_count": null,
   "id": "95aa8b90-8349-405e-be3f-f649a98efc2a",
   "metadata": {},
   "outputs": [],
   "source": [
    "# Fit the model with train data\n",
    "grid_search.fit(X_train_scaled, y_train)\n",
    "\n",
    "# Find the best model, best cross validated recall score\n",
    "best_model = grid_search. best_estimator\n",
    "print(\"Best Parameters:\", grid_search.best_params_)\n",
    "print(\"Best Cross-Validated Recall:\", grid_search.best_score_)\n",
    "\n",
    "# Predictions on test set\n",
    "y_pred = best_model.predict(X_test_scaled)"
   ]
  },
  {
   "cell_type": "code",
   "execution_count": null,
   "id": "a77aba7a-064d-4b57-a539-80ea52682fb1",
   "metadata": {},
   "outputs": [],
   "source": []
  },
  {
   "cell_type": "code",
   "execution_count": null,
   "id": "2404a843-1aff-43a7-a6fa-643ae1743b17",
   "metadata": {},
   "outputs": [],
   "source": []
  }
 ],
 "metadata": {
  "kernelspec": {
   "display_name": "Python 3 (ipykernel)",
   "language": "python",
   "name": "python3"
  },
  "language_info": {
   "codemirror_mode": {
    "name": "ipython",
    "version": 3
   },
   "file_extension": ".py",
   "mimetype": "text/x-python",
   "name": "python",
   "nbconvert_exporter": "python",
   "pygments_lexer": "ipython3",
   "version": "3.12.7"
  }
 },
 "nbformat": 4,
 "nbformat_minor": 5
}
