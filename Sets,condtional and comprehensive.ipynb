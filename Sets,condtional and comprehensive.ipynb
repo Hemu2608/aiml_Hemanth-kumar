{
 "cells": [
  {
   "cell_type": "code",
   "execution_count": 7,
   "id": "47569d02-5b5c-49e5-9032-7be72e68e024",
   "metadata": {},
   "outputs": [
    {
     "name": "stdout",
     "output_type": "stream",
     "text": [
      "even\n"
     ]
    }
   ],
   "source": [
    "num1 = 6\n",
    "if num1 %2 == 0:\n",
    "    print(\"even\")\n",
    "else:\n",
    "    print(\"odd\")"
   ]
  },
  {
   "cell_type": "code",
   "execution_count": 9,
   "id": "8017350a-bc3b-4c01-9c65-88151a689ef9",
   "metadata": {},
   "outputs": [
    {
     "name": "stdout",
     "output_type": "stream",
     "text": [
      "Zero\n"
     ]
    }
   ],
   "source": [
    "num = 0\n",
    "result = \"Postive\" if num > 0 else(\"negative\" if num < 0 else \"Zero\")\n",
    "print(result)"
   ]
  },
  {
   "cell_type": "code",
   "execution_count": 10,
   "id": "30e088f3-70c4-4b24-921e-3101366de36f",
   "metadata": {},
   "outputs": [
    {
     "data": {
      "text/plain": [
       "[2, 18, 4, 20, 112, 178]"
      ]
     },
     "execution_count": 10,
     "metadata": {},
     "output_type": "execute_result"
    }
   ],
   "source": [
    "L = [1,9,2,10,56,89]\n",
    "[2*x for x in L]"
   ]
  },
  {
   "cell_type": "code",
   "execution_count": 13,
   "id": "b980de95-17a8-4df5-a76e-b743a8e8797f",
   "metadata": {},
   "outputs": [
    {
     "data": {
      "text/plain": [
       "[2, 10, 56]"
      ]
     },
     "execution_count": 13,
     "metadata": {},
     "output_type": "execute_result"
    }
   ],
   "source": [
    "# Print even number\n",
    "L = [1,9,2,10,56,89]\n",
    "[x for x in L if x%2 == 0]"
   ]
  },
  {
   "cell_type": "code",
   "execution_count": 14,
   "id": "656113c1-36a3-4761-9b0a-28eb674eb05b",
   "metadata": {},
   "outputs": [
    {
     "data": {
      "text/plain": [
       "[1, 9, 89]"
      ]
     },
     "execution_count": 14,
     "metadata": {},
     "output_type": "execute_result"
    }
   ],
   "source": [
    "# Print odd number\n",
    "L = [1,9,2,10,56,89]\n",
    "[x for x in L if x%2 == 1]"
   ]
  },
  {
   "cell_type": "code",
   "execution_count": 19,
   "id": "11116f52-20a7-4e59-91c6-346d5abc258a",
   "metadata": {},
   "outputs": [
    {
     "data": {
      "text/plain": [
       "27.833333333333332"
      ]
     },
     "execution_count": 19,
     "metadata": {},
     "output_type": "execute_result"
    }
   ],
   "source": [
    "# Print Average value of the list\n",
    "L = [1,9,2,10,56,89]\n",
    "sum([x for x in L])/len(L)"
   ]
  },
  {
   "cell_type": "code",
   "execution_count": 22,
   "id": "3c1f28d2-fedc-41b5-ab61-9abbb0d5e485",
   "metadata": {},
   "outputs": [
    {
     "data": {
      "text/plain": [
       "{'Ram': 84.75, 'john': 71.5}"
      ]
     },
     "execution_count": 22,
     "metadata": {},
     "output_type": "execute_result"
    }
   ],
   "source": [
    "d1 = {'Ram':[70,71,98,100], 'john':[56,98,67,65]}\n",
    "{k:sum(v)/len(v) for k,v in d1.items()}"
   ]
  },
  {
   "cell_type": "code",
   "execution_count": null,
   "id": "b80da48d-8bf8-4103-817f-fdd454120fc8",
   "metadata": {},
   "outputs": [],
   "source": []
  }
 ],
 "metadata": {
  "kernelspec": {
   "display_name": "Python 3 (ipykernel)",
   "language": "python",
   "name": "python3"
  },
  "language_info": {
   "codemirror_mode": {
    "name": "ipython",
    "version": 3
   },
   "file_extension": ".py",
   "mimetype": "text/x-python",
   "name": "python",
   "nbconvert_exporter": "python",
   "pygments_lexer": "ipython3",
   "version": "3.12.7"
  }
 },
 "nbformat": 4,
 "nbformat_minor": 5
}
