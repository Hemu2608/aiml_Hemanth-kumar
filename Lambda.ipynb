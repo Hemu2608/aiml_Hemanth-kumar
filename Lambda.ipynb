{
 "cells": [
  {
   "cell_type": "code",
   "execution_count": null,
   "id": "63da6970-6d4f-450d-b903-44c4d6d755e6",
   "metadata": {},
   "outputs": [],
   "source": [
    "def mean_value(given_list):\n",
    "    total = sum(given_list)\n",
    "    average_value = total/len(given_list)\n",
    "    return average_value"
   ]
  },
  {
   "cell_type": "code",
   "execution_count": 1,
   "id": "ee6a0c52-6156-478a-9eac-c1602aa9e912",
   "metadata": {},
   "outputs": [],
   "source": [
    "def greet(name):\n",
    "    print(f\"Good Morning {name}!\")"
   ]
  },
  {
   "cell_type": "code",
   "execution_count": 2,
   "id": "fcfc19f3-1ddd-42d8-8c2c-d9abc5bf3041",
   "metadata": {},
   "outputs": [
    {
     "name": "stdout",
     "output_type": "stream",
     "text": [
      "Good Morning Hemanth!\n"
     ]
    }
   ],
   "source": [
    "greet(\"Hemanth\")"
   ]
  },
  {
   "cell_type": "code",
   "execution_count": null,
   "id": "5d3a3fb0-c6c4-4088-8b9a-8dc56835fff5",
   "metadata": {},
   "outputs": [],
   "source": [
    "greet = lambda name : print(f'Good Morning {name}!\")"
   ]
  },
  {
   "cell_type": "code",
   "execution_count": 3,
   "id": "cf68d64d-9b41-4b5c-8327-7ead4c502ba6",
   "metadata": {},
   "outputs": [
    {
     "name": "stdout",
     "output_type": "stream",
     "text": [
      "Good Morning Hemanth!\n"
     ]
    }
   ],
   "source": [
    "greet(\"Hemanth\")"
   ]
  },
  {
   "cell_type": "code",
   "execution_count": 6,
   "id": "d7bfbbac-98bc-42dd-8328-ab26fded72c8",
   "metadata": {},
   "outputs": [],
   "source": [
    "product = lambda a,b,c : a*b*c"
   ]
  },
  {
   "cell_type": "code",
   "execution_count": 7,
   "id": "e472eac4-23d0-499f-8b5a-85c62b131b32",
   "metadata": {},
   "outputs": [
    {
     "data": {
      "text/plain": [
       "24000"
      ]
     },
     "execution_count": 7,
     "metadata": {},
     "output_type": "execute_result"
    }
   ],
   "source": [
    "product(20,30,40)"
   ]
  },
  {
   "cell_type": "code",
   "execution_count": 8,
   "id": "1d51ff2f-0ec4-4723-91e9-0c4909aabefa",
   "metadata": {},
   "outputs": [],
   "source": [
    "even = lambda L : [x for x in L if x%2 == 0]"
   ]
  },
  {
   "cell_type": "code",
   "execution_count": 9,
   "id": "decd5bc2-6106-4785-b5a5-62c5f91879a3",
   "metadata": {},
   "outputs": [
    {
     "data": {
      "text/plain": [
       "[100, 38, 56, 20]"
      ]
     },
     "execution_count": 9,
     "metadata": {},
     "output_type": "execute_result"
    }
   ],
   "source": [
    "my_list = [100,3,9,38,43,56,20]\n",
    "even(my_list)"
   ]
  },
  {
   "cell_type": "code",
   "execution_count": 10,
   "id": "64174506-7b95-4a06-9dd2-c673c97fdcac",
   "metadata": {},
   "outputs": [],
   "source": [
    "odd = lambda L : [x for x in L if x%2 == 1]"
   ]
  },
  {
   "cell_type": "code",
   "execution_count": 11,
   "id": "f44bd382-109a-4779-b749-94987c4d82c4",
   "metadata": {},
   "outputs": [
    {
     "data": {
      "text/plain": [
       "[3, 9, 43]"
      ]
     },
     "execution_count": 11,
     "metadata": {},
     "output_type": "execute_result"
    }
   ],
   "source": [
    "my_list = [100,3,9,38,43,56,20]\n",
    "odd(my_list)"
   ]
  },
  {
   "cell_type": "code",
   "execution_count": 17,
   "id": "63b4d3d1-a6ac-45f1-956c-ffc34eb1193f",
   "metadata": {},
   "outputs": [],
   "source": [
    "def mean_value(*n):\n",
    "    sum = 0\n",
    "    counter = 0\n",
    "    for x in n:\n",
    "        counter = counter +1\n",
    "        sum += x\n",
    "    mean = sum/counter\n",
    "    return mean"
   ]
  },
  {
   "cell_type": "markdown",
   "id": "f0a0ddcf-f9d0-4e5e-8d99-3a0829485be8",
   "metadata": {},
   "source": [
    "mean_value(3,4,5,6,7,8,1,2)"
   ]
  },
  {
   "cell_type": "code",
   "execution_count": 18,
   "id": "923390c5-0988-4389-a5f0-4d54ca4b30fb",
   "metadata": {},
   "outputs": [],
   "source": [
    "def mean_value(*n):\n",
    "    sum = 0\n",
    "    counter = 0\n",
    "    for x in n:\n",
    "        counter = counter +1\n",
    "        sum += x\n",
    "    mean = sum/counter\n",
    "    return mean"
   ]
  },
  {
   "cell_type": "code",
   "execution_count": 19,
   "id": "7d8b4e77-9789-4142-a809-28263b9121b8",
   "metadata": {},
   "outputs": [
    {
     "data": {
      "text/plain": [
       "4.5"
      ]
     },
     "execution_count": 19,
     "metadata": {},
     "output_type": "execute_result"
    }
   ],
   "source": [
    "mean_value(3,4,5,6,7,8,1,2)"
   ]
  },
  {
   "cell_type": "code",
   "execution_count": null,
   "id": "fd387f4a-bce4-4863-87b3-a9096df4bd4a",
   "metadata": {},
   "outputs": [],
   "source": []
  }
 ],
 "metadata": {
  "kernelspec": {
   "display_name": "Python 3 (ipykernel)",
   "language": "python",
   "name": "python3"
  },
  "language_info": {
   "codemirror_mode": {
    "name": "ipython",
    "version": 3
   },
   "file_extension": ".py",
   "mimetype": "text/x-python",
   "name": "python",
   "nbconvert_exporter": "python",
   "pygments_lexer": "ipython3",
   "version": "3.12.7"
  }
 },
 "nbformat": 4,
 "nbformat_minor": 5
}
